{
 "cells": [
  {
   "cell_type": "markdown",
   "metadata": {
    "index": 0,
    "solution": false
   },
   "source": [
    "# Essential Matplotlib Plots"
   ]
  },
  {
   "cell_type": "markdown",
   "metadata": {
    "index": 1,
    "solution": false
   },
   "source": [
    "For this activity, you will be using an abalone dataset from [UCI Machine Learning Repository](https://archive.ics.uci.edu/ml/datasets/abalone). Abalone are shelled marine animals raised and harvested for food.  This data set describes a little over 4000 abalone collected in Tasmania.  Their physical characteristics have been measured, a process which is described in the link above as \"a boring and time-consuming task\".  Although we will just be visualizing the data, note that the recommended machine learning application for this data set is \"predicting the age of abalone from physical measurements.\""
   ]
  },
  {
   "cell_type": "code",
   "execution_count": null,
   "metadata": {
    "index": 2,
    "solution": false
   },
   "outputs": [],
   "source": [
    "# Run cell without changes\n",
    "import pandas as pd\n",
    "import matplotlib.pyplot as plt\n",
    "\n",
    "abalone = pd.read_csv('data/abalone.data', header=None)\n",
    "\n",
    "abalone.columns = [\"sex\", \"length\", \"diameter\", \"height\", \"whole\",\n",
    "                   \"shucked\", \"viscera\", \"shell\", \"rings\"]\n",
    "\n",
    "abalone = abalone.to_dict(orient='list')"
   ]
  },
  {
   "cell_type": "markdown",
   "metadata": {
    "index": 3,
    "solution": false
   },
   "source": [
    "# Task 1"
   ]
  },
  {
   "cell_type": "markdown",
   "metadata": {
    "index": 4,
    "solution": false
   },
   "source": [
    "Create a scatterplot that visualizes the correlation between abalone `length` and `diameter`.  Title the plot with a string that includes a short description of the correlation.  Add axis labels.  Color the markers green. \n",
    "\n",
    "Make sure to use fig, ax plt.subplots() syntax. \n",
    "Order the plot so that the highest value count is first on the x_axis."
   ]
  },
  {
   "cell_type": "markdown",
   "metadata": {
    "index": 6,
    "solution": false
   },
   "source": [
    "# Task 2"
   ]
  },
  {
   "cell_type": "markdown",
   "metadata": {
    "index": 7,
    "solution": false
   },
   "source": [
    "Create a barplot that visualizes the number of instances of each category of abalone `sex`. There are three categories: male, female, and infant. \n",
    "\n",
    "There are many ways to do this, but try to do it using a for loop.  \n",
    "\n",
    "Eventually, numpy and pandas will make this very easy.  If you want, look up how you might use `numpy.unique()` or by converting the lists to a pandas `series` and using the `value_counts` method.\n"
   ]
  },
  {
   "cell_type": "code",
   "execution_count": null,
   "metadata": {
    "index": 8,
    "solution": false
   },
   "outputs": [],
   "source": [
    "# Your code here"
   ]
  },
  {
   "cell_type": "markdown",
   "metadata": {
    "index": 11,
    "solution": false
   },
   "source": [
    "# Task 3"
   ]
  },
  {
   "cell_type": "markdown",
   "metadata": {
    "index": 12,
    "solution": false
   },
   "source": [
    "\n",
    "Create a single plot which layers histograms on top of eachother. Create three subsets of abalone `length`, each representing a different sex.  In order to do this, you will need to iterate over two lists (`length` and `sex`) in the abalone dictionary at the same time.  Use the `zip` built in operator to do that, and use if/else logic to populate lists representing each sex.\n",
    "\n",
    "Then plot the distributions of each sex group's `length` feature using ax.hist.  \n",
    "\n",
    "To make the plot look better, add a label to each plot that indicates male, female, or infant.  Set the `alpha` level of the top two plots to `.5` to make them semitransparent and `bins=20`.  Call legend() off of the ax object to show the legend aligned to the label.  Give the plot a title and labels.\n"
   ]
  },
  {
   "cell_type": "markdown",
   "metadata": {
    "index": 13,
    "solution": false
   },
   "source": [
    "<details>\n",
    "    <summary>\n",
    "        Starter Code to help creating the length lists\n",
    "    </summary>\n",
    "\n",
    "```python\n",
    "# Create empty lists to hold length of each sex\n",
    "abalone_male_length = []\n",
    "abalone_infant_length = []\n",
    "abalone_female_length = []\n",
    "\n",
    "# Populate lists with lengths\n",
    "for sex, length in zip(abalone['sex'], abalone['length']):\n",
    "    if sex == fill_in:\n",
    "        pass\n",
    "    elif sex == fill_in:\n",
    "        pass\n",
    "    else:\n",
    "        pass\n",
    "```"
   ]
  },
  {
   "cell_type": "markdown",
   "metadata": {
    "index": 15,
    "solution": false
   },
   "source": [
    "# Task 4"
   ]
  },
  {
   "cell_type": "markdown",
   "metadata": {
    "index": 16,
    "solution": false
   },
   "source": [
    "For the final task, create a single figure with two plots.  The figure should have 2 rows and 1 column, which you specify with the first two arguments of the subplots() method. Go ahead and make the figure bigger (10,10) using the `figsize` argument.  In row 1, plot a **histogram** of the `height` variable. In row 2, plot a **boxplot** of the `height` variable. "
   ]
  },
  {
   "cell_type": "code",
   "execution_count": null,
   "metadata": {
    "index": 18,
    "solution": false
   },
   "outputs": [],
   "source": []
  }
 ],
 "metadata": {
  "kernelspec": {
   "display_name": "learn-env",
   "language": "python",
   "name": "learn-env"
  },
  "language_info": {
   "codemirror_mode": {
    "name": "ipython",
    "version": 3
   },
   "file_extension": ".py",
   "mimetype": "text/x-python",
   "name": "python",
   "nbconvert_exporter": "python",
   "pygments_lexer": "ipython3",
   "version": "3.7.3"
  }
 },
 "nbformat": 4,
 "nbformat_minor": 4
}
