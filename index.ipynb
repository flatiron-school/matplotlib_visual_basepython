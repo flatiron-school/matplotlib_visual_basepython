{
 "cells": [
  {
   "cell_type": "markdown",
   "metadata": {
    "index": 0,
    "solution": false
   },
   "source": [
    "# Essential Matplotlib Plots"
   ]
  },
  {
   "cell_type": "markdown",
   "metadata": {
    "index": 1,
    "solution": false
   },
   "source": [
    "For this activity, you will be using an abalone dataset from [UCI Machine Learning Repository](https://archive.ics.uci.edu/ml/datasets/abalone). Abalone are shelled marine animals raised and harvested for food.  This data set describes a little over 4000 abalone collected in Tasmania.  Their physical characteristics have been measured, a process which is described in the link above as \"a boring and time-consuming task\".  Although we will just be visualizing the data, note that the recommended machine learning application for this data set is \"predicting the age of abalone from physical measurements.\""
   ]
  },
  {
   "cell_type": "markdown",
   "metadata": {
    "index": 3,
    "solution": false
   },
   "source": [
    "# Task 1"
   ]
  },
  {
   "cell_type": "markdown",
   "metadata": {
    "index": 4,
    "solution": false
   },
   "source": [
    "Create a scatterplot that visualizes the correlation between abalone `length` and `diameter`.  Title the plot with a string that includes a short description of the correlation.  Add axis labels.  Color the markers green. \n",
    "\n",
    "Make sure to use fig, ax plt.subplots() syntax. \n",
    "Order the plot so that the highest value count is first on the x_axis."
   ]
  },
  {
   "cell_type": "code",
   "execution_count": null,
   "metadata": {
    "index": 5,
    "solution": true
   },
   "outputs": [],
   "source": [
    "fig, ax = plt.subplots()\n",
    "\n",
    "ax.scatter(abalone['length'], abalone['diameter'], c='g')\n",
    "ax.set_title('Strong Positive Correlation\\n Between Abalone Length and Diameter')\n",
    "ax.set_xlabel('Length')\n",
    "ax.set_ylabel('Diameter')"
   ]
  },
  {
   "cell_type": "markdown",
   "metadata": {
    "index": 6,
    "solution": false
   },
   "source": [
    "# Task 2"
   ]
  },
  {
   "cell_type": "markdown",
   "metadata": {
    "index": 7,
    "solution": false
   },
   "source": [
    "Create a barplot that visualizes the number of instances of each category of abalone `sex`. There are three categories: male, female, and infant. \n",
    "\n",
    "There are many ways to do this, but try to do it using a for loop.  \n",
    "\n",
    "Eventually, numpy and pandas will make this very easy.  If you want, look up how you might use `numpy.unique()` or by converting the lists to a pandas `series` and using the `value_counts` method.\n"
   ]
  },
  {
   "cell_type": "code",
   "execution_count": null,
   "metadata": {
    "index": 9,
    "solution": true
   },
   "outputs": [],
   "source": [
    "\n",
    "sex_counts = {'M':0, 'F':0, 'I':0}\n",
    "\n",
    "for sex in abalone['sex']:\n",
    "    if sex == 'M':\n",
    "        sex_counts['M'] += 1\n",
    "    elif sex == 'F':\n",
    "        sex_counts['F'] += 1\n",
    "    else:\n",
    "        sex_counts['I'] += 1\n",
    "        \n",
    "# Sort values so that plot is descending\n",
    "sex_counts = {k:v for k,v in sorted(sex_counts.items(), \n",
    "                                    key=lambda x: x[1], reverse=True)}\n",
    "        \n",
    "fig, ax = plt.subplots()\n",
    "\n",
    "ax.bar(sex_counts.keys(), sex_counts.values())\n",
    "\n",
    "ax.set_title('Abalone Sex Count')\n",
    "ax.set_xlabel('Sex');"
   ]
  },
  {
   "cell_type": "code",
   "execution_count": null,
   "metadata": {
    "index": 10,
    "solution": true
   },
   "outputs": [],
   "source": [
    "import pandas as pd\n",
    "# Alternate answer using pandas series\n",
    "\n",
    "sex_counts = pd.Series(abalone['sex']).value_counts()\n",
    "print(sex_counts)\n",
    "\n",
    "fig, ax = plt.subplots()\n",
    "\n",
    "sex_counts.plot(kind='bar', ax=ax)\n",
    "\n",
    "ax.set_title('Abalone Sex Count')\n",
    "ax.set_xlabel('Sex');"
   ]
  },
  {
   "cell_type": "markdown",
   "metadata": {
    "index": 11,
    "solution": false
   },
   "source": [
    "# Task 3"
   ]
  },
  {
   "cell_type": "markdown",
   "metadata": {
    "index": 12,
    "solution": false
   },
   "source": [
    "\n",
    "Create a single plot which layers histograms on top of eachother. Create three subsets of abalone `length`, each representing a different sex.  In order to do this, you will need to iterate over two lists (`length` and `sex`) in the abalone dictionary at the same time.  Use the `zip` built in operator to do that, and use if/else logic to populate lists representing each sex.\n",
    "\n",
    "Then plot the distributions of each sex group's `length` feature using ax.hist.  \n",
    "\n",
    "To make the plot look better, add a label to each plot that indicates male, female, or infant.  Set the `alpha` level of the top two plots to `.5` to make them semitransparent and `bins=20`.  Call legend() off of the ax object to show the legend aligned to the label.  Give the plot a title and labels.\n"
   ]
  },
  {
   "cell_type": "markdown",
   "metadata": {
    "index": 13,
    "solution": false
   },
   "source": [
    "<details>\n",
    "    <summary>\n",
    "        Starter Code to help creating the length lists\n",
    "    </summary>\n",
    "\n",
    "```python\n",
    "# Create empty lists to hold length of each sex\n",
    "abalone_male_length = []\n",
    "abalone_infant_length = []\n",
    "abalone_female_length = []\n",
    "\n",
    "# Populate lists with lengths\n",
    "for sex, length in zip(abalone['sex'], abalone['length']):\n",
    "    if sex == fill_in:\n",
    "        pass\n",
    "    elif sex == fill_in:\n",
    "        pass\n",
    "    else:\n",
    "        pass\n",
    "```"
   ]
  },
  {
   "cell_type": "code",
   "execution_count": null,
   "metadata": {
    "index": 14,
    "solution": true
   },
   "outputs": [],
   "source": [
    "\n",
    "# Create empty lists to hold length of each sex\n",
    "abalone_male_length = []\n",
    "abalone_infant_length = []\n",
    "abalone_female_length = []\n",
    "\n",
    "# Populate lists with lengths\n",
    "for sex, length in zip(abalone['sex'], abalone['length']):\n",
    "    if sex == 'M':\n",
    "        abalone_male_length.append(length)\n",
    "    elif sex == 'F':\n",
    "        abalone_female_length.append(length)\n",
    "    else:\n",
    "        abalone_infant_length.append(length)\n",
    "        \n",
    "fig, ax = plt.subplots(figsize=(10,10))\n",
    "\n",
    "# Layer histograms to display whether they are from \n",
    "ax.hist(abalone_male_length, bins=20, label='male')\n",
    "ax.hist(abalone_infant_length, bins=20, alpha=.5, label='infant')\n",
    "ax.hist(abalone_female_length, bins=20, alpha=.5, label='female')\n",
    "\n",
    "ax.set_title('Distribution of Lengths\\n Separated by Sex')\n",
    "ax.set_xlabel('Length (mm)')\n",
    "ax.legend();\n",
    "        "
   ]
  },
  {
   "cell_type": "markdown",
   "metadata": {
    "index": 15,
    "solution": false
   },
   "source": [
    "# Task 4"
   ]
  },
  {
   "cell_type": "markdown",
   "metadata": {
    "index": 16,
    "solution": false
   },
   "source": [
    "For the final task, create a single figure with two plots.  The figure should have 2 rows and 1 column, which you specify with the first two arguments of the subplots() method. Go ahead and make the figure bigger (10,10) using the `figsize` argument.  In row 1, plot a **histogram** of the `height` variable. In row 2, plot a **boxplot** of the `height` variable. "
   ]
  },
  {
   "cell_type": "code",
   "execution_count": null,
   "metadata": {
    "index": 17,
    "solution": true
   },
   "outputs": [],
   "source": [
    "\n",
    "fig, (ax1, ax2) = plt.subplots(2,1, figsize=(10,10), sharex=True)\n",
    "ax1.hist(abalone['height'],bins=30)\n",
    "ax2.boxplot(abalone['height'], vert=False, showfliers=True)\n",
    "ax2.set_xlabel('Height', );"
   ]
  }
 ],
 "metadata": {
  "kernelspec": {
   "display_name": "learn-env",
   "language": "python",
   "name": "learn-env"
  },
  "language_info": {
   "codemirror_mode": {
    "name": "ipython",
    "version": 3
   },
   "file_extension": ".py",
   "mimetype": "text/x-python",
   "name": "python",
   "nbconvert_exporter": "python",
   "pygments_lexer": "ipython3",
   "version": "3.7.3"
  }
 },
 "nbformat": 4,
 "nbformat_minor": 4
}
